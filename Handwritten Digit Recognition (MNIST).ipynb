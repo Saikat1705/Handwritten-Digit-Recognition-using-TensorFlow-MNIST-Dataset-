{
 "cells": [
  {
   "cell_type": "markdown",
   "id": "a9c298f0",
   "metadata": {},
   "source": [
    "#Project : Handwritten Digit Recognition (MNIST)"
   ]
  },
  {
   "cell_type": "code",
   "execution_count": 1,
   "id": "0f3eca7c",
   "metadata": {},
   "outputs": [
    {
     "name": "stdout",
     "output_type": "stream",
     "text": [
      "TensorFlow version: 2.19.0\n"
     ]
    }
   ],
   "source": [
    "import tensorflow as tf\n",
    "print(\"TensorFlow version:\", tf.__version__)\n"
   ]
  },
  {
   "cell_type": "code",
   "execution_count": 2,
   "id": "d423a1d3",
   "metadata": {},
   "outputs": [],
   "source": [
    "import tensorflow as tf\n",
    "from tensorflow.keras.datasets import mnist\n",
    "from tensorflow.keras.models import Sequential\n",
    "from tensorflow.keras.layers import Dense, Flatten\n",
    "from tensorflow.keras.utils import to_categorical\n"
   ]
  },
  {
   "cell_type": "code",
   "execution_count": 3,
   "id": "646493fc",
   "metadata": {},
   "outputs": [
    {
     "name": "stdout",
     "output_type": "stream",
     "text": [
      "Downloading data from https://storage.googleapis.com/tensorflow/tf-keras-datasets/mnist.npz\n",
      "\u001b[1m11490434/11490434\u001b[0m \u001b[32m━━━━━━━━━━━━━━━━━━━━\u001b[0m\u001b[37m\u001b[0m \u001b[1m11s\u001b[0m 1us/step\n",
      "Training data shape: (60000, 28, 28)\n",
      "Testing data shape: (10000, 28, 28)\n"
     ]
    }
   ],
   "source": [
    "(x_train, y_train), (x_test, y_test) = mnist.load_data()\n",
    "print(\"Training data shape:\", x_train.shape)\n",
    "print(\"Testing data shape:\", x_test.shape)\n"
   ]
  },
  {
   "cell_type": "code",
   "execution_count": 4,
   "id": "0df6864e",
   "metadata": {},
   "outputs": [],
   "source": [
    "x_train = x_train / 255.0\n",
    "x_test = x_test / 255.0\n"
   ]
  },
  {
   "cell_type": "code",
   "execution_count": 6,
   "id": "8f59c365",
   "metadata": {},
   "outputs": [],
   "source": [
    "model = tf.keras.models.Sequential([\n",
    "    tf.keras.Input(shape=(28, 28)),\n",
    "    tf.keras.layers.Flatten(),\n",
    "    tf.keras.layers.Dense(128, activation='relu'),\n",
    "    tf.keras.layers.Dense(10, activation='softmax')\n",
    "])\n"
   ]
  },
  {
   "cell_type": "code",
   "execution_count": 7,
   "id": "26a8e335",
   "metadata": {},
   "outputs": [],
   "source": [
    "model.compile(optimizer='adam',\n",
    "              loss='sparse_categorical_crossentropy',\n",
    "              metrics=['accuracy'])\n"
   ]
  },
  {
   "cell_type": "code",
   "execution_count": 8,
   "id": "0dc46cba",
   "metadata": {},
   "outputs": [
    {
     "name": "stdout",
     "output_type": "stream",
     "text": [
      "Epoch 1/5\n",
      "\u001b[1m1875/1875\u001b[0m \u001b[32m━━━━━━━━━━━━━━━━━━━━\u001b[0m\u001b[37m\u001b[0m \u001b[1m3s\u001b[0m 1ms/step - accuracy: 0.8831 - loss: 0.4205\n",
      "Epoch 2/5\n",
      "\u001b[1m1875/1875\u001b[0m \u001b[32m━━━━━━━━━━━━━━━━━━━━\u001b[0m\u001b[37m\u001b[0m \u001b[1m3s\u001b[0m 1ms/step - accuracy: 0.9631 - loss: 0.1232\n",
      "Epoch 3/5\n",
      "\u001b[1m1875/1875\u001b[0m \u001b[32m━━━━━━━━━━━━━━━━━━━━\u001b[0m\u001b[37m\u001b[0m \u001b[1m3s\u001b[0m 1ms/step - accuracy: 0.9757 - loss: 0.0802\n",
      "Epoch 4/5\n",
      "\u001b[1m1875/1875\u001b[0m \u001b[32m━━━━━━━━━━━━━━━━━━━━\u001b[0m\u001b[37m\u001b[0m \u001b[1m3s\u001b[0m 1ms/step - accuracy: 0.9822 - loss: 0.0567\n",
      "Epoch 5/5\n",
      "\u001b[1m1875/1875\u001b[0m \u001b[32m━━━━━━━━━━━━━━━━━━━━\u001b[0m\u001b[37m\u001b[0m \u001b[1m3s\u001b[0m 1ms/step - accuracy: 0.9873 - loss: 0.0439\n"
     ]
    },
    {
     "data": {
      "text/plain": [
       "<keras.src.callbacks.history.History at 0x22553942530>"
      ]
     },
     "execution_count": 8,
     "metadata": {},
     "output_type": "execute_result"
    }
   ],
   "source": [
    "model.fit(x_train, y_train, epochs=5)\n"
   ]
  },
  {
   "cell_type": "code",
   "execution_count": 9,
   "id": "6896d65b",
   "metadata": {},
   "outputs": [
    {
     "name": "stdout",
     "output_type": "stream",
     "text": [
      "\u001b[1m313/313\u001b[0m \u001b[32m━━━━━━━━━━━━━━━━━━━━\u001b[0m\u001b[37m\u001b[0m \u001b[1m1s\u001b[0m 2ms/step - accuracy: 0.9718 - loss: 0.0937\n",
      "Test accuracy: 0.9759\n"
     ]
    }
   ],
   "source": [
    "test_loss, test_accuracy = model.evaluate(x_test, y_test)\n",
    "print(f\"Test accuracy: {test_accuracy:.4f}\")\n"
   ]
  },
  {
   "cell_type": "code",
   "execution_count": 10,
   "id": "6dd4e24a",
   "metadata": {},
   "outputs": [
    {
     "name": "stdout",
     "output_type": "stream",
     "text": [
      "\u001b[1m1/1\u001b[0m \u001b[32m━━━━━━━━━━━━━━━━━━━━\u001b[0m\u001b[37m\u001b[0m \u001b[1m0s\u001b[0m 79ms/step\n",
      "[[5.90056537e-08 2.49549061e-07 1.50050428e-05 3.72833922e-04\n",
      "  5.13983647e-11 1.18988953e-06 1.85879979e-12 9.99598682e-01\n",
      "  1.73413116e-06 1.02828044e-05]\n",
      " [2.26230156e-07 5.31837884e-07 9.99958992e-01 1.07379365e-05\n",
      "  1.93474428e-13 8.30327362e-09 3.10174393e-08 1.17970033e-13\n",
      "  2.94448382e-05 4.60124668e-13]\n",
      " [3.74766387e-06 9.97012973e-01 1.30178552e-04 1.47820656e-05\n",
      "  1.80400966e-04 1.18092386e-04 1.97718095e-04 1.19451038e-03\n",
      "  1.14566903e-03 1.78720370e-06]\n",
      " [9.99991417e-01 2.19386905e-07 1.77743664e-06 4.58911913e-08\n",
      "  2.88779090e-09 4.64382559e-08 5.72887166e-06 7.71707391e-07\n",
      "  8.93511320e-10 1.61206959e-08]\n",
      " [6.58879653e-05 4.80762537e-07 7.92837018e-05 8.61251479e-08\n",
      "  9.98870671e-01 2.80311497e-06 4.53302164e-06 1.78079659e-04\n",
      "  2.66861389e-05 7.71460007e-04]]\n",
      "Predicted classes: [7 2 1 0 4]\n",
      "True classes: [7 2 1 0 4]\n"
     ]
    }
   ],
   "source": [
    "predictions = model.predict(x_test[:5])\n",
    "print(predictions)\n",
    "print(\"Predicted classes:\", predictions.argmax(axis=1))\n",
    "print(\"True classes:\", y_test[:5])\n"
   ]
  },
  {
   "cell_type": "code",
   "execution_count": null,
   "id": "6640f3bc",
   "metadata": {},
   "outputs": [
    {
     "name": "stdout",
     "output_type": "stream",
     "text": [
      "\u001b[1m1/1\u001b[0m \u001b[32m━━━━━━━━━━━━━━━━━━━━\u001b[0m\u001b[37m\u001b[0m \u001b[1m0s\u001b[0m 33ms/step\n",
      "Predicted digit: 2\n"
     ]
    }
   ],
   "source": [
    "# prediction from image (predict 2)\n",
    "import numpy as np\n",
    "from PIL import Image\n",
    "\n",
    "img_path = r'F:\\python\\tensorflow project\\MNIST Dataset JPG format\\MNIST Dataset JPG format\\MNIST - JPG - testing\\2\\35.jpg'\n",
    "\n",
    "img = Image.open(img_path).convert('L')  \n",
    "img = img.resize((28, 28))  \n",
    "img_array = np.array(img)  \n",
    "\n",
    "img_array = img_array / 255.0  \n",
    "img_array = img_array.reshape(1, 28, 28)  \n",
    "\n",
    "prediction = model.predict(img_array)\n",
    "predicted_class = np.argmax(prediction)\n",
    "\n",
    "print(\"Predicted digit:\", predicted_class)\n"
   ]
  },
  {
   "cell_type": "code",
   "execution_count": 13,
   "id": "35fb6f81",
   "metadata": {},
   "outputs": [
    {
     "name": "stdout",
     "output_type": "stream",
     "text": [
      "\u001b[1m1/1\u001b[0m \u001b[32m━━━━━━━━━━━━━━━━━━━━\u001b[0m\u001b[37m\u001b[0m \u001b[1m0s\u001b[0m 44ms/step\n",
      "Predicted digit: 7\n"
     ]
    }
   ],
   "source": [
    "# Lets predict 7\n",
    "\n",
    "import numpy as np\n",
    "from PIL import Image\n",
    "\n",
    "img_path = r'F:\\python\\tensorflow project\\MNIST Dataset JPG format\\MNIST Dataset JPG format\\MNIST - JPG - testing\\7\\3418.jpg'\n",
    "\n",
    "img = Image.open(img_path).convert('L')  \n",
    "img = img.resize((28, 28))  \n",
    "img_array = np.array(img)  \n",
    "\n",
    "img_array = img_array / 255.0  \n",
    "img_array = img_array.reshape(1, 28, 28)  \n",
    "\n",
    "prediction = model.predict(img_array)\n",
    "predicted_class = np.argmax(prediction)\n",
    "\n",
    "print(\"Predicted digit:\", predicted_class)"
   ]
  },
  {
   "cell_type": "code",
   "execution_count": null,
   "id": "1c58dc4c",
   "metadata": {},
   "outputs": [],
   "source": [
    "#Done"
   ]
  }
 ],
 "metadata": {
  "kernelspec": {
   "display_name": "venv",
   "language": "python",
   "name": "python3"
  },
  "language_info": {
   "codemirror_mode": {
    "name": "ipython",
    "version": 3
   },
   "file_extension": ".py",
   "mimetype": "text/x-python",
   "name": "python",
   "nbconvert_exporter": "python",
   "pygments_lexer": "ipython3",
   "version": "3.10.0"
  }
 },
 "nbformat": 4,
 "nbformat_minor": 5
}
